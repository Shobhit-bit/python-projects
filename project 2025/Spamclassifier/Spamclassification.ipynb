{
 "cells": [
  {
   "cell_type": "code",
   "execution_count": 54,
   "id": "e49cb9f2",
   "metadata": {},
   "outputs": [],
   "source": [
    "import numpy as np\n",
    "import matplotlib.pyplot as plt\n",
    "import pandas as pd\n",
    "import string\n",
    "from sklearn.preprocessing import LabelEncoder\n",
    "from sklearn.model_selection import train_test_split\n",
    "from sklearn.metrics import accuracy_score"
   ]
  },
  {
   "cell_type": "code",
   "execution_count": 55,
   "id": "fd2c080b",
   "metadata": {},
   "outputs": [],
   "source": [
    "df = pd.read_csv(r\"D:\\vs code\\Projects\\MachineLearning\\Spamclassifier\\spam.csv\",encoding=\"ansi\")"
   ]
  },
  {
   "cell_type": "code",
   "execution_count": 56,
   "id": "44ada678",
   "metadata": {},
   "outputs": [],
   "source": [
    "df.head()\n",
    "df = df.drop(columns=[\"Unnamed: 2\", \"Unnamed: 3\", \"Unnamed: 4\"])"
   ]
  },
  {
   "cell_type": "code",
   "execution_count": 57,
   "id": "dca57249",
   "metadata": {},
   "outputs": [
    {
     "data": {
      "text/plain": [
       "v1\n",
       "ham     4825\n",
       "spam     747\n",
       "Name: count, dtype: int64"
      ]
     },
     "execution_count": 57,
     "metadata": {},
     "output_type": "execute_result"
    }
   ],
   "source": [
    "df['v1'].value_counts()"
   ]
  },
  {
   "cell_type": "markdown",
   "id": "0c0bd9db",
   "metadata": {},
   "source": [
    "Lowercasing"
   ]
  },
  {
   "cell_type": "code",
   "execution_count": 58,
   "id": "096a1a60",
   "metadata": {},
   "outputs": [
    {
     "name": "stdout",
     "output_type": "stream",
     "text": [
      "Column 'v1' has been lowercased.\n",
      "Column 'v2' has been lowercased.\n"
     ]
    },
    {
     "data": {
      "text/html": [
       "<div>\n",
       "<style scoped>\n",
       "    .dataframe tbody tr th:only-of-type {\n",
       "        vertical-align: middle;\n",
       "    }\n",
       "\n",
       "    .dataframe tbody tr th {\n",
       "        vertical-align: top;\n",
       "    }\n",
       "\n",
       "    .dataframe thead th {\n",
       "        text-align: right;\n",
       "    }\n",
       "</style>\n",
       "<table border=\"1\" class=\"dataframe\">\n",
       "  <thead>\n",
       "    <tr style=\"text-align: right;\">\n",
       "      <th></th>\n",
       "      <th>v1</th>\n",
       "      <th>v2</th>\n",
       "    </tr>\n",
       "  </thead>\n",
       "  <tbody>\n",
       "    <tr>\n",
       "      <th>0</th>\n",
       "      <td>ham</td>\n",
       "      <td>go until jurong point, crazy.. available only ...</td>\n",
       "    </tr>\n",
       "    <tr>\n",
       "      <th>1</th>\n",
       "      <td>ham</td>\n",
       "      <td>ok lar... joking wif u oni...</td>\n",
       "    </tr>\n",
       "    <tr>\n",
       "      <th>2</th>\n",
       "      <td>spam</td>\n",
       "      <td>free entry in 2 a wkly comp to win fa cup fina...</td>\n",
       "    </tr>\n",
       "    <tr>\n",
       "      <th>3</th>\n",
       "      <td>ham</td>\n",
       "      <td>u dun say so early hor... u c already then say...</td>\n",
       "    </tr>\n",
       "    <tr>\n",
       "      <th>4</th>\n",
       "      <td>ham</td>\n",
       "      <td>nah i don't think he goes to usf, he lives aro...</td>\n",
       "    </tr>\n",
       "  </tbody>\n",
       "</table>\n",
       "</div>"
      ],
      "text/plain": [
       "     v1                                                 v2\n",
       "0   ham  go until jurong point, crazy.. available only ...\n",
       "1   ham                      ok lar... joking wif u oni...\n",
       "2  spam  free entry in 2 a wkly comp to win fa cup fina...\n",
       "3   ham  u dun say so early hor... u c already then say...\n",
       "4   ham  nah i don't think he goes to usf, he lives aro..."
      ]
     },
     "execution_count": 58,
     "metadata": {},
     "output_type": "execute_result"
    }
   ],
   "source": [
    "columns_to_lowercase = ['v1', 'v2']\n",
    "for col in columns_to_lowercase:\n",
    "    if col in df.columns:\n",
    "        if pd.api.types.is_string_dtype(df[col]):\n",
    "            df[col] = df[col].astype(str).str.lower()\n",
    "            print(f\"Column '{col}' has been lowercased.\")\n",
    "df.head()"
   ]
  },
  {
   "cell_type": "markdown",
   "id": "8441ebcb",
   "metadata": {},
   "source": [
    "Url removal"
   ]
  },
  {
   "cell_type": "code",
   "execution_count": 65,
   "id": "929a8347",
   "metadata": {},
   "outputs": [
    {
     "data": {
      "text/plain": [
       "'xxxmobilemovieclub: to use your credit, click the wap link in the next txt message or click here>>  ?n=qjkgighjjgcbl'"
      ]
     },
     "execution_count": 65,
     "metadata": {},
     "output_type": "execute_result"
    }
   ],
   "source": [
    "\n",
    "import re\n",
    "url_pattern = re.compile(r'https?://\\S+|www\\.\\S+|\\S+\\.(com|org|net|gov|edu|uk|ca|in|io|co|biz|info|xyz|me|app|dev|blog|shop|online|site|store|tech|club|live|solutions|ai|io|cloud)\\b')\n",
    "def remove_urls(text):\n",
    "    text = str(text) # Ensure text is string\n",
    "    return url_pattern.sub(r'', text)\n",
    "df['v2_nourl'] = df['v2'].apply(remove_urls)\n",
    "df['v2_nourl'][15]"
   ]
  },
  {
   "cell_type": "markdown",
   "id": "5d27a3ad",
   "metadata": {},
   "source": [
    "Punctuation removal"
   ]
  },
  {
   "cell_type": "code",
   "execution_count": null,
   "id": "c39539ba",
   "metadata": {},
   "outputs": [
    {
     "data": {
      "text/plain": [
       "0    go until jurong point crazy available only in ...\n",
       "1                              ok lar joking wif u oni\n",
       "2    free entry in 2 a wkly comp to win fa cup fina...\n",
       "3          u dun say so early hor u c already then say\n",
       "4    nah i dont think he goes to usf he lives aroun...\n",
       "Name: v2_clean, dtype: object"
      ]
     },
     "execution_count": 60,
     "metadata": {},
     "output_type": "execute_result"
    }
   ],
   "source": [
    "def clean_text(series):\n",
    "    return series.str.translate(str.maketrans('', '', string.punctuation)).str.strip()\n",
    "\n",
    "df['v2_clean'] = df['v2_nourl'].apply(clean_text)\n",
    "df['v2_clean'].head()"
   ]
  },
  {
   "cell_type": "markdown",
   "id": "f4138f6b",
   "metadata": {},
   "source": [
    "Chat Word Removal"
   ]
  },
  {
   "cell_type": "code",
   "execution_count": 68,
   "id": "27edc04f",
   "metadata": {},
   "outputs": [
    {
     "data": {
      "text/plain": [
       "0    go until jurong point crazy available only in ...\n",
       "1                            ok lar joking wif you oni\n",
       "2    free entry in to a wkly comp to win fa cup fin...\n",
       "3    you dont say so early hor you can already then...\n",
       "4    nah i dont think he goes to usf he lives aroun...\n",
       "Name: v2_expChat, dtype: object"
      ]
     },
     "execution_count": 68,
     "metadata": {},
     "output_type": "execute_result"
    }
   ],
   "source": [
    "chat_words_map = {\n",
    "    'lol': 'laughing out loud',\n",
    "    'brb': 'be right back',\n",
    "    'g2g': 'got to go',\n",
    "    'btw': 'by the way',\n",
    "    'omg': 'oh my god',\n",
    "    'wtf': 'what the fuck',\n",
    "    'u': 'you',\n",
    "    'r': 'are',\n",
    "    'ur': 'your',\n",
    "    'lyk': 'like',\n",
    "    '2': 'to',\n",
    "    '4': 'for',\n",
    "    'cya': 'see you',\n",
    "    'msg': 'message',\n",
    "    'pls': 'please',\n",
    "    'plz': 'please',\n",
    "    'thx': 'thanks',\n",
    "    'ty': 'thank you',\n",
    "    'coz': 'because',\n",
    "    'b4': 'before',\n",
    "    'idk': 'i do not know',\n",
    "    'imo': 'in my opinion',\n",
    "    'irl': 'in real life',\n",
    "    'fyi': 'for your information',\n",
    "    'np': 'no problem',\n",
    "    'ttyl': 'talk to you later',\n",
    "    'wbu': 'what about you',\n",
    "    'c' : 'can',\n",
    "    'n':'and',\n",
    "    'k':'ok',\n",
    "    'dun' : 'dont'\n",
    "}\n",
    "def expand_word(text):\n",
    "    words = text.split()\n",
    "    expanded_words = []\n",
    "    for word in words:\n",
    "        if word in chat_words_map.keys():\n",
    "            expanded_words.append(chat_words_map[word])\n",
    "        else:\n",
    "            expanded_words.append(word)\n",
    "    return ' '.join(expanded_words)\n",
    "\n",
    "df['v2_expChat'] = df['v2_clean'].apply(expand_word)\n",
    "df['v2_expChat'].head()"
   ]
  },
  {
   "cell_type": "markdown",
   "id": "b2188d88",
   "metadata": {},
   "source": [
    "Removal Of Stop Word"
   ]
  },
  {
   "cell_type": "code",
   "execution_count": 79,
   "id": "b1e30b9b",
   "metadata": {},
   "outputs": [
    {
     "data": {
      "text/plain": [
       "0    go jurong point crazy available bugis great wo...\n",
       "1                                ok lar joking wif oni\n",
       "2    free entry wkly comp win fa cup final tkts 21s...\n",
       "3                       dont say early hor already say\n",
       "4          nah dont think goes usf lives around though\n",
       "Name: v2_nostop, dtype: object"
      ]
     },
     "execution_count": 79,
     "metadata": {},
     "output_type": "execute_result"
    }
   ],
   "source": [
    "import nltk\n",
    "# nltk.download('stopwords')\n",
    "from nltk.corpus import stopwords\n",
    "stop_words = list(stopwords.words('english'))\n",
    "def remove_stopwords(text):\n",
    "    words = text.split()\n",
    "    filtered_words = [word for word in words if word not in stop_words]\n",
    "    return ' '.join(filtered_words)\n",
    "df['v2_nostop'] = df['v2_expChat'].apply(remove_stopwords)\n",
    "df['v2_nostop'].head()"
   ]
  },
  {
   "cell_type": "markdown",
   "id": "2a35812d",
   "metadata": {},
   "source": [
    "Steming"
   ]
  },
  {
   "cell_type": "code",
   "execution_count": null,
   "id": "4a766668",
   "metadata": {},
   "outputs": [],
   "source": []
  }
 ],
 "metadata": {
  "kernelspec": {
   "display_name": "Python 3",
   "language": "python",
   "name": "python3"
  },
  "language_info": {
   "codemirror_mode": {
    "name": "ipython",
    "version": 3
   },
   "file_extension": ".py",
   "mimetype": "text/x-python",
   "name": "python",
   "nbconvert_exporter": "python",
   "pygments_lexer": "ipython3",
   "version": "3.12.4"
  }
 },
 "nbformat": 4,
 "nbformat_minor": 5
}
